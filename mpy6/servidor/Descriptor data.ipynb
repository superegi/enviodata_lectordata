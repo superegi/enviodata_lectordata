{
 "cells": [
  {
   "cell_type": "code",
   "execution_count": 1,
   "metadata": {
    "collapsed": true
   },
   "outputs": [],
   "source": [
    "import pandas as pd\n",
    "from datetime import datetime\n",
    "import numpy as np\n",
    "import matplotlib.pyplot as plt\n",
    "from matplotlib import interactive\n",
    "import sqlite3\n",
    "import time\n",
    "%matplotlib inline"
   ]
  },
  {
   "cell_type": "code",
   "execution_count": 2,
   "metadata": {
    "collapsed": true
   },
   "outputs": [],
   "source": [
    "# Create your connection.\n",
    "cnx = sqlite3.connect('greenhouse.db')\n",
    "df = pd.read_sql_query(\"SELECT * FROM readings\", cnx)\n"
   ]
  },
  {
   "cell_type": "code",
   "execution_count": 3,
   "metadata": {},
   "outputs": [
    {
     "name": "stdout",
     "output_type": "stream",
     "text": [
      "<class 'pandas.core.frame.DataFrame'>\n",
      "RangeIndex: 26 entries, 0 to 25\n",
      "Data columns (total 5 columns):\n",
      "Origen         26 non-null object\n",
      "Temperatura    26 non-null float64\n",
      "Humedad        26 non-null float64\n",
      "Analogo        26 non-null int64\n",
      "Fecha          26 non-null object\n",
      "dtypes: float64(2), int64(1), object(2)\n",
      "memory usage: 1.1+ KB\n"
     ]
    },
    {
     "data": {
      "text/html": [
       "<div>\n",
       "<style scoped>\n",
       "    .dataframe tbody tr th:only-of-type {\n",
       "        vertical-align: middle;\n",
       "    }\n",
       "\n",
       "    .dataframe tbody tr th {\n",
       "        vertical-align: top;\n",
       "    }\n",
       "\n",
       "    .dataframe thead th {\n",
       "        text-align: right;\n",
       "    }\n",
       "</style>\n",
       "<table border=\"1\" class=\"dataframe\">\n",
       "  <thead>\n",
       "    <tr style=\"text-align: right;\">\n",
       "      <th></th>\n",
       "      <th>Origen</th>\n",
       "      <th>Temperatura</th>\n",
       "      <th>Humedad</th>\n",
       "      <th>Analogo</th>\n",
       "      <th>Fecha</th>\n",
       "    </tr>\n",
       "  </thead>\n",
       "  <tbody>\n",
       "    <tr>\n",
       "      <th>0</th>\n",
       "      <td>dc:4f:22:5f:4b:27</td>\n",
       "      <td>27.466667</td>\n",
       "      <td>1.0</td>\n",
       "      <td>1</td>\n",
       "      <td>2020-01-28 10:35:31</td>\n",
       "    </tr>\n",
       "    <tr>\n",
       "      <th>1</th>\n",
       "      <td>84:0d:8e:b0:f4:5c</td>\n",
       "      <td>23.000000</td>\n",
       "      <td>45.5</td>\n",
       "      <td>1</td>\n",
       "      <td>2020-01-28 10:35:31</td>\n",
       "    </tr>\n",
       "    <tr>\n",
       "      <th>2</th>\n",
       "      <td>dc:4f:22:5f:4b:27</td>\n",
       "      <td>27.150000</td>\n",
       "      <td>1.0</td>\n",
       "      <td>1</td>\n",
       "      <td>2020-01-28 10:35:41</td>\n",
       "    </tr>\n",
       "    <tr>\n",
       "      <th>3</th>\n",
       "      <td>84:0d:8e:b0:f4:5c</td>\n",
       "      <td>23.000000</td>\n",
       "      <td>45.5</td>\n",
       "      <td>1</td>\n",
       "      <td>2020-01-28 10:36:02</td>\n",
       "    </tr>\n",
       "    <tr>\n",
       "      <th>4</th>\n",
       "      <td>dc:4f:22:5f:4b:27</td>\n",
       "      <td>26.750000</td>\n",
       "      <td>1.3</td>\n",
       "      <td>1</td>\n",
       "      <td>2020-01-28 10:36:17</td>\n",
       "    </tr>\n",
       "  </tbody>\n",
       "</table>\n",
       "</div>"
      ],
      "text/plain": [
       "              Origen  Temperatura  Humedad  Analogo                Fecha\n",
       "0  dc:4f:22:5f:4b:27    27.466667      1.0        1  2020-01-28 10:35:31\n",
       "1  84:0d:8e:b0:f4:5c    23.000000     45.5        1  2020-01-28 10:35:31\n",
       "2  dc:4f:22:5f:4b:27    27.150000      1.0        1  2020-01-28 10:35:41\n",
       "3  84:0d:8e:b0:f4:5c    23.000000     45.5        1  2020-01-28 10:36:02\n",
       "4  dc:4f:22:5f:4b:27    26.750000      1.3        1  2020-01-28 10:36:17"
      ]
     },
     "execution_count": 3,
     "metadata": {},
     "output_type": "execute_result"
    }
   ],
   "source": [
    "df.info()\n",
    "df.head()"
   ]
  },
  {
   "cell_type": "code",
   "execution_count": 4,
   "metadata": {},
   "outputs": [],
   "source": [
    "df.Fecha = pd.to_datetime(df.Fecha)\n",
    "df.Origen = df.Origen.str.replace('84:0d:8e:b0:f4:5c', 'TipoA')\n",
    "df.Origen = df.Origen.str.replace('dc:4f:22:5f:4b:27', 'TipoB')\n",
    "\n",
    "BD = df[['Origen', 'Fecha','Temperatura', 'Humedad']]\n"
   ]
  },
  {
   "cell_type": "code",
   "execution_count": null,
   "metadata": {
    "collapsed": true
   },
   "outputs": [],
   "source": []
  },
  {
   "cell_type": "code",
   "execution_count": 5,
   "metadata": {},
   "outputs": [
    {
     "data": {
      "text/html": [
       "<div>\n",
       "<style scoped>\n",
       "    .dataframe tbody tr th:only-of-type {\n",
       "        vertical-align: middle;\n",
       "    }\n",
       "\n",
       "    .dataframe tbody tr th {\n",
       "        vertical-align: top;\n",
       "    }\n",
       "\n",
       "    .dataframe thead th {\n",
       "        text-align: right;\n",
       "    }\n",
       "</style>\n",
       "<table border=\"1\" class=\"dataframe\">\n",
       "  <thead>\n",
       "    <tr style=\"text-align: right;\">\n",
       "      <th></th>\n",
       "      <th>Origen</th>\n",
       "      <th>Fecha</th>\n",
       "      <th>Temperatura</th>\n",
       "      <th>Humedad</th>\n",
       "    </tr>\n",
       "  </thead>\n",
       "  <tbody>\n",
       "    <tr>\n",
       "      <th>0</th>\n",
       "      <td>TipoB</td>\n",
       "      <td>2020-01-28 10:35:31</td>\n",
       "      <td>27.466667</td>\n",
       "      <td>1.0</td>\n",
       "    </tr>\n",
       "    <tr>\n",
       "      <th>1</th>\n",
       "      <td>TipoA</td>\n",
       "      <td>2020-01-28 10:35:31</td>\n",
       "      <td>23.000000</td>\n",
       "      <td>45.5</td>\n",
       "    </tr>\n",
       "    <tr>\n",
       "      <th>2</th>\n",
       "      <td>TipoB</td>\n",
       "      <td>2020-01-28 10:35:41</td>\n",
       "      <td>27.150000</td>\n",
       "      <td>1.0</td>\n",
       "    </tr>\n",
       "    <tr>\n",
       "      <th>3</th>\n",
       "      <td>TipoA</td>\n",
       "      <td>2020-01-28 10:36:02</td>\n",
       "      <td>23.000000</td>\n",
       "      <td>45.5</td>\n",
       "    </tr>\n",
       "    <tr>\n",
       "      <th>4</th>\n",
       "      <td>TipoB</td>\n",
       "      <td>2020-01-28 10:36:17</td>\n",
       "      <td>26.750000</td>\n",
       "      <td>1.3</td>\n",
       "    </tr>\n",
       "  </tbody>\n",
       "</table>\n",
       "</div>"
      ],
      "text/plain": [
       "  Origen               Fecha  Temperatura  Humedad\n",
       "0  TipoB 2020-01-28 10:35:31    27.466667      1.0\n",
       "1  TipoA 2020-01-28 10:35:31    23.000000     45.5\n",
       "2  TipoB 2020-01-28 10:35:41    27.150000      1.0\n",
       "3  TipoA 2020-01-28 10:36:02    23.000000     45.5\n",
       "4  TipoB 2020-01-28 10:36:17    26.750000      1.3"
      ]
     },
     "execution_count": 5,
     "metadata": {},
     "output_type": "execute_result"
    }
   ],
   "source": [
    "BD.head()"
   ]
  },
  {
   "cell_type": "code",
   "execution_count": 6,
   "metadata": {},
   "outputs": [
    {
     "data": {
      "text/plain": [
       "Origen\n",
       "TipoA    AxesSubplot(0.125,0.125;0.775x0.755)\n",
       "TipoB    AxesSubplot(0.125,0.125;0.775x0.755)\n",
       "Name: Temperatura, dtype: object"
      ]
     },
     "execution_count": 6,
     "metadata": {},
     "output_type": "execute_result"
    },
    {
     "data": {
      "image/png": "[encoded data removed]",
      "text/plain": [
       "<Figure size 432x288 with 1 Axes>"
      ]
     },
     "metadata": {},
     "output_type": "display_data"
    }
   ],
   "source": [
    "BD.groupby('Origen').Temperatura.plot()\n"
   ]
  },
  {
   "cell_type": "code",
   "execution_count": 7,
   "metadata": {},
   "outputs": [
    {
     "data": {
      "text/plain": [
       "Origen\n",
       "TipoA    AxesSubplot(0.125,0.125;0.775x0.755)\n",
       "TipoB    AxesSubplot(0.125,0.125;0.775x0.755)\n",
       "Name: Humedad, dtype: object"
      ]
     },
     "execution_count": 7,
     "metadata": {},
     "output_type": "execute_result"
    },
    {
     "data": {
      "image/png": "[encoded data removed]",
      "text/plain": [
       "<Figure size 432x288 with 1 Axes>"
      ]
     },
     "metadata": {},
     "output_type": "display_data"
    }
   ],
   "source": [
    "BD.groupby('Origen').Humedad.plot()"
   ]
  },
  {
   "cell_type": "code",
   "execution_count": null,
   "metadata": {
    "collapsed": true
   },
   "outputs": [],
   "source": []
  },
  {
   "cell_type": "code",
   "execution_count": null,
   "metadata": {
    "collapsed": true
   },
   "outputs": [],
   "source": []
  },
  {
   "cell_type": "code",
   "execution_count": null,
   "metadata": {
    "collapsed": true
   },
   "outputs": [],
   "source": []
  }
 ],
 "metadata": {
  "kernelspec": {
   "display_name": "Python 3",
   "language": "python",
   "name": "python3"
  },
  "language_info": {
   "codemirror_mode": {
    "name": "ipython",
    "version": 3
   },
   "file_extension": ".py",
   "mimetype": "text/x-python",
   "name": "python",
   "nbconvert_exporter": "python",
   "pygments_lexer": "ipython3",
   "version": "3.6.3"
  }
 },
 "nbformat": 4,
 "nbformat_minor": 2
}
