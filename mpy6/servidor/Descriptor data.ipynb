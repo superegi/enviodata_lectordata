{
 "cells": [
  {
   "cell_type": "code",
   "execution_count": 9,
   "metadata": {
    "collapsed": true
   },
   "outputs": [],
   "source": [
    "import pandas as pd\n",
    "from datetime import datetime\n",
    "import numpy as np\n",
    "import matplotlib.pyplot as plt\n",
    "from matplotlib import interactive\n",
    "import sqlite3\n",
    "import time\n",
    "%matplotlib inline"
   ]
  },
  {
   "cell_type": "code",
   "execution_count": 2,
   "metadata": {
    "collapsed": true
   },
   "outputs": [],
   "source": [
    "# Create your connection.\n",
    "cnx = sqlite3.connect('greenhouse.db')\n",
    "df = pd.read_sql_query(\"SELECT * FROM readings\", cnx)\n"
   ]
  },
  {
   "cell_type": "code",
   "execution_count": 4,
   "metadata": {},
   "outputs": [
    {
     "name": "stdout",
     "output_type": "stream",
     "text": [
      "<class 'pandas.core.frame.DataFrame'>\n",
      "RangeIndex: 7349 entries, 0 to 7348\n",
      "Data columns (total 5 columns):\n",
      "source           7349 non-null object\n",
      "airtemp          7349 non-null float64\n",
      "humidity         7349 non-null float64\n",
      "soil_moisture    7349 non-null int64\n",
      "timestamp        7349 non-null object\n",
      "dtypes: float64(2), int64(1), object(2)\n",
      "memory usage: 287.1+ KB\n"
     ]
    },
    {
     "data": {
      "text/html": [
       "<div>\n",
       "<style scoped>\n",
       "    .dataframe tbody tr th:only-of-type {\n",
       "        vertical-align: middle;\n",
       "    }\n",
       "\n",
       "    .dataframe tbody tr th {\n",
       "        vertical-align: top;\n",
       "    }\n",
       "\n",
       "    .dataframe thead th {\n",
       "        text-align: right;\n",
       "    }\n",
       "</style>\n",
       "<table border=\"1\" class=\"dataframe\">\n",
       "  <thead>\n",
       "    <tr style=\"text-align: right;\">\n",
       "      <th></th>\n",
       "      <th>source</th>\n",
       "      <th>airtemp</th>\n",
       "      <th>humidity</th>\n",
       "      <th>soil_moisture</th>\n",
       "      <th>timestamp</th>\n",
       "    </tr>\n",
       "  </thead>\n",
       "  <tbody>\n",
       "    <tr>\n",
       "      <th>0</th>\n",
       "      <td>84:0d:8e:b0:f4:5c</td>\n",
       "      <td>23.6</td>\n",
       "      <td>45.60</td>\n",
       "      <td>1</td>\n",
       "      <td>2020-01-27 22:16:40</td>\n",
       "    </tr>\n",
       "    <tr>\n",
       "      <th>1</th>\n",
       "      <td>dc:4f:22:5f:4b:27</td>\n",
       "      <td>17.4</td>\n",
       "      <td>89.95</td>\n",
       "      <td>1</td>\n",
       "      <td>2020-01-27 22:16:40</td>\n",
       "    </tr>\n",
       "    <tr>\n",
       "      <th>2</th>\n",
       "      <td>84:0d:8e:b0:f4:5c</td>\n",
       "      <td>23.6</td>\n",
       "      <td>45.60</td>\n",
       "      <td>1</td>\n",
       "      <td>2020-01-27 22:16:45</td>\n",
       "    </tr>\n",
       "    <tr>\n",
       "      <th>3</th>\n",
       "      <td>dc:4f:22:5f:4b:27</td>\n",
       "      <td>17.4</td>\n",
       "      <td>90.10</td>\n",
       "      <td>1</td>\n",
       "      <td>2020-01-27 22:16:45</td>\n",
       "    </tr>\n",
       "    <tr>\n",
       "      <th>4</th>\n",
       "      <td>dc:4f:22:5f:4b:27</td>\n",
       "      <td>17.4</td>\n",
       "      <td>90.20</td>\n",
       "      <td>1</td>\n",
       "      <td>2020-01-27 22:16:52</td>\n",
       "    </tr>\n",
       "  </tbody>\n",
       "</table>\n",
       "</div>"
      ],
      "text/plain": [
       "              source  airtemp  humidity  soil_moisture            timestamp\n",
       "0  84:0d:8e:b0:f4:5c     23.6     45.60              1  2020-01-27 22:16:40\n",
       "1  dc:4f:22:5f:4b:27     17.4     89.95              1  2020-01-27 22:16:40\n",
       "2  84:0d:8e:b0:f4:5c     23.6     45.60              1  2020-01-27 22:16:45\n",
       "3  dc:4f:22:5f:4b:27     17.4     90.10              1  2020-01-27 22:16:45\n",
       "4  dc:4f:22:5f:4b:27     17.4     90.20              1  2020-01-27 22:16:52"
      ]
     },
     "execution_count": 4,
     "metadata": {},
     "output_type": "execute_result"
    }
   ],
   "source": [
    "df.info()\n",
    "df.head()"
   ]
  },
  {
   "cell_type": "code",
   "execution_count": 5,
   "metadata": {
    "collapsed": true
   },
   "outputs": [],
   "source": [
    "df.timestamp = pd.to_datetime(df.timestamp)\n",
    "df.source = df.source.str.replace('84:0d:8e:b0:f4:5c', 'TipoA')\n",
    "df.source = df.source.str.replace('dc:4f:22:5f:4b:27', 'TipoB')\n",
    "\n",
    "BD = df[['Origen', 'Fecha','Temperatura', 'Humedad']]\n"
   ]
  },
  {
   "cell_type": "code",
   "execution_count": null,
   "metadata": {
    "collapsed": true
   },
   "outputs": [],
   "source": []
  },
  {
   "cell_type": "code",
   "execution_count": 7,
   "metadata": {},
   "outputs": [
    {
     "data": {
      "text/html": [
       "<div>\n",
       "<style scoped>\n",
       "    .dataframe tbody tr th:only-of-type {\n",
       "        vertical-align: middle;\n",
       "    }\n",
       "\n",
       "    .dataframe tbody tr th {\n",
       "        vertical-align: top;\n",
       "    }\n",
       "\n",
       "    .dataframe thead th {\n",
       "        text-align: right;\n",
       "    }\n",
       "</style>\n",
       "<table border=\"1\" class=\"dataframe\">\n",
       "  <thead>\n",
       "    <tr style=\"text-align: right;\">\n",
       "      <th></th>\n",
       "      <th>source</th>\n",
       "      <th>timestamp</th>\n",
       "      <th>airtemp</th>\n",
       "      <th>humidity</th>\n",
       "    </tr>\n",
       "  </thead>\n",
       "  <tbody>\n",
       "    <tr>\n",
       "      <th>0</th>\n",
       "      <td>TipoA</td>\n",
       "      <td>2020-01-27 22:16:40</td>\n",
       "      <td>23.6</td>\n",
       "      <td>45.60</td>\n",
       "    </tr>\n",
       "    <tr>\n",
       "      <th>1</th>\n",
       "      <td>TipoB</td>\n",
       "      <td>2020-01-27 22:16:40</td>\n",
       "      <td>17.4</td>\n",
       "      <td>89.95</td>\n",
       "    </tr>\n",
       "    <tr>\n",
       "      <th>2</th>\n",
       "      <td>TipoA</td>\n",
       "      <td>2020-01-27 22:16:45</td>\n",
       "      <td>23.6</td>\n",
       "      <td>45.60</td>\n",
       "    </tr>\n",
       "    <tr>\n",
       "      <th>3</th>\n",
       "      <td>TipoB</td>\n",
       "      <td>2020-01-27 22:16:45</td>\n",
       "      <td>17.4</td>\n",
       "      <td>90.10</td>\n",
       "    </tr>\n",
       "    <tr>\n",
       "      <th>4</th>\n",
       "      <td>TipoB</td>\n",
       "      <td>2020-01-27 22:16:52</td>\n",
       "      <td>17.4</td>\n",
       "      <td>90.20</td>\n",
       "    </tr>\n",
       "  </tbody>\n",
       "</table>\n",
       "</div>"
      ],
      "text/plain": [
       "  source           timestamp  airtemp  humidity\n",
       "0  TipoA 2020-01-27 22:16:40     23.6     45.60\n",
       "1  TipoB 2020-01-27 22:16:40     17.4     89.95\n",
       "2  TipoA 2020-01-27 22:16:45     23.6     45.60\n",
       "3  TipoB 2020-01-27 22:16:45     17.4     90.10\n",
       "4  TipoB 2020-01-27 22:16:52     17.4     90.20"
      ]
     },
     "execution_count": 7,
     "metadata": {},
     "output_type": "execute_result"
    }
   ],
   "source": [
    "BD.head()"
   ]
  },
  {
   "cell_type": "code",
   "execution_count": 11,
   "metadata": {},
   "outputs": [
    {
     "data": {
      "text/plain": [
       "source\n",
       "TipoA    AxesSubplot(0.125,0.125;0.775x0.755)\n",
       "TipoB    AxesSubplot(0.125,0.125;0.775x0.755)\n",
       "Name: airtemp, dtype: object"
      ]
     },
     "execution_count": 11,
     "metadata": {},
     "output_type": "execute_result"
    },
    {
     "data": {
      "image/png": "[encoded data removed]",
      "text/plain": [
       "<Figure size 432x288 with 1 Axes>"
      ]
     },
     "metadata": {},
     "output_type": "display_data"
    }
   ],
   "source": [
    "BD.groupby('Origen').Temperatura.plot()\n"
   ]
  },
  {
   "cell_type": "code",
   "execution_count": 14,
   "metadata": {},
   "outputs": [
    {
     "data": {
      "text/plain": [
       "source\n",
       "TipoA    AxesSubplot(0.125,0.125;0.775x0.755)\n",
       "TipoB    AxesSubplot(0.125,0.125;0.775x0.755)\n",
       "Name: humidity, dtype: object"
      ]
     },
     "execution_count": 14,
     "metadata": {},
     "output_type": "execute_result"
    },
    {
     "data": {
      "image/png": "[encoded data removed]",
      "text/plain": [
       "<Figure size 432x288 with 1 Axes>"
      ]
     },
     "metadata": {},
     "output_type": "display_data"
    }
   ],
   "source": [
    "BD.groupby('Origen').Humedad.plot()"
   ]
  },
  {
   "cell_type": "code",
   "execution_count": null,
   "metadata": {
    "collapsed": true
   },
   "outputs": [],
   "source": []
  },
  {
   "cell_type": "code",
   "execution_count": null,
   "metadata": {
    "collapsed": true
   },
   "outputs": [],
   "source": []
  },
  {
   "cell_type": "code",
   "execution_count": null,
   "metadata": {
    "collapsed": true
   },
   "outputs": [],
   "source": []
  }
 ],
 "metadata": {
  "kernelspec": {
   "display_name": "Python 3",
   "language": "python",
   "name": "python3"
  },
  "language_info": {
   "codemirror_mode": {
    "name": "ipython",
    "version": 3
   },
   "file_extension": ".py",
   "mimetype": "text/x-python",
   "name": "python",
   "nbconvert_exporter": "python",
   "pygments_lexer": "ipython3",
   "version": "3.6.3"
  }
 },
 "nbformat": 4,
 "nbformat_minor": 2
}
